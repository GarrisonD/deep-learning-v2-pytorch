{
 "cells": [
  {
   "cell_type": "code",
   "execution_count": 1,
   "metadata": {
    "scrolled": false
   },
   "outputs": [],
   "source": [
    "import numpy as np\n",
    "\n",
    "from torch.utils.data import Dataset\n",
    "\n",
    "class CharSequenceDataset(Dataset):\n",
    "    def __init__(self, path, batch_size, seq_length, one_hot_encoding=False):\n",
    "        self.one_hot_encoding = one_hot_encoding\n",
    "        \n",
    "        self.batch_size = batch_size\n",
    "        self.seq_length = seq_length\n",
    "\n",
    "        with open(path) as f: text = f.read()\n",
    "\n",
    "        # leave only characters that can be represented as matrix\n",
    "        text = text[:len(text) // self.batch_size * self.batch_size]\n",
    "        \n",
    "        self.chars = tuple(set(text))\n",
    "        self.n_tokens = len(self.chars)\n",
    "        self.int2char = dict(enumerate(self.chars))\n",
    "        self.char2int = {c: i for i, c in self.int2char.items()}\n",
    "\n",
    "        encoded_text = np.array([self.char2int[ch] for ch in text])\n",
    "        encoded_text_matrix = encoded_text.reshape(self.batch_size, -1)\n",
    "        \n",
    "        self.n_batches = (encoded_text_matrix.shape[1] - 1) // self.seq_length\n",
    "        X = encoded_text_matrix[:,  :self.n_batches * self.seq_length    ]\n",
    "        Y = encoded_text_matrix[:, 1:self.n_batches * self.seq_length + 1]\n",
    "        \n",
    "        self.xs = self.matrix_to_seq_list(X)\n",
    "        self.ys = self.matrix_to_seq_list(Y)\n",
    "\n",
    "    def matrix_to_seq_list(self, M):\n",
    "        return M.reshape(self.batch_size, -1, self.seq_length).transpose(1, 0, 2).reshape(-1, self.seq_length)\n",
    "    \n",
    "    def seq_to_one_hot_code(self, x):\n",
    "        code = np.zeros((len(x), self.n_tokens), dtype=np.float32)\n",
    "        code[np.arange(len(x)), x] = 1.\n",
    "        return code\n",
    "        \n",
    "    def __getitem__(self, index):\n",
    "        x, y = self.xs[index], self.ys[index]\n",
    "        \n",
    "        if self.one_hot_encoding:\n",
    "            return self.seq_to_one_hot_code(x), y\n",
    "        else:\n",
    "            return x, y\n",
    "        \n",
    "    def __len__(self):\n",
    "        return self.n_batches * self.batch_size"
   ]
  },
  {
   "cell_type": "code",
   "execution_count": 2,
   "metadata": {},
   "outputs": [],
   "source": [
    "from sklearn.model_selection import train_test_split\n",
    "\n",
    "from torch.utils.data import DataLoader, SequentialSampler\n",
    "\n",
    "batch_size = 128\n",
    "seq_length = 150\n",
    "\n",
    "dataset = CharSequenceDataset(\"data/anna.txt\",\n",
    "                              batch_size=batch_size,\n",
    "                              seq_length=seq_length,\n",
    "                              one_hot_encoding=True)\n",
    "\n",
    "train_idx, test_idx = train_test_split(np.arange(len(dataset)), shuffle=False)\n",
    "\n",
    "train_sampler = SequentialSampler(train_idx)\n",
    "test_sampler  = SequentialSampler(test_idx)\n",
    "\n",
    "train_loader = DataLoader(dataset, batch_size=batch_size)\n",
    "test_loader  = DataLoader(dataset, batch_size=batch_size)"
   ]
  },
  {
   "cell_type": "code",
   "execution_count": 3,
   "metadata": {},
   "outputs": [],
   "source": [
    "import torch\n",
    "\n",
    "device = \"cuda\" if torch.cuda.is_available() else \"cpu\""
   ]
  },
  {
   "cell_type": "code",
   "execution_count": 4,
   "metadata": {},
   "outputs": [],
   "source": [
    "from torch import nn\n",
    "\n",
    "import torch.nn.functional as F\n",
    "\n",
    "class Network(nn.Module):\n",
    "    def __init__(self, n_tokens):\n",
    "        super().__init__()\n",
    "        \n",
    "        self.input_size  = n_tokens\n",
    "        self.output_size = n_tokens\n",
    "        self.hidden_size = 512\n",
    "        self.n_layers    = 2\n",
    "        \n",
    "        self.lstm = nn.LSTM(self.input_size,\n",
    "                            self.hidden_size,\n",
    "                            self.n_layers,\n",
    "                            dropout=0.5,\n",
    "                            batch_first=True)\n",
    "        \n",
    "        self.fc1 = nn.Linear(self.hidden_size, 64)\n",
    "        self.fc2 = nn.Linear(64, self.output_size)\n",
    "        \n",
    "        self.dropout = nn.Dropout()\n",
    "        \n",
    "    def init_hidden(self, batch_size, device=\"cpu\"):\n",
    "        self.hidden = (torch.zeros(self.n_layers, batch_size, self.hidden_size).to(device),\n",
    "                       torch.zeros(self.n_layers, batch_size, self.hidden_size).to(device))\n",
    "        \n",
    "        return self.hidden\n",
    "    \n",
    "    def reset_hidden(self):\n",
    "        self.hidden = (self.hidden[0].data,\n",
    "                       self.hidden[1].data)\n",
    "        \n",
    "        return self.hidden\n",
    "        \n",
    "    def forward(self, x):\n",
    "        out, self.hidden = self.lstm(x, self.hidden)\n",
    "        x = out.contiguous().view(-1, self.hidden_size)\n",
    "        \n",
    "        x = self.dropout(F.relu(self.fc1(x)))\n",
    "        x = self.fc2(x)\n",
    "        return x"
   ]
  },
  {
   "cell_type": "code",
   "execution_count": 5,
   "metadata": {
    "scrolled": false
   },
   "outputs": [
    {
     "name": "stderr",
     "output_type": "stream",
     "text": [
      "100%|██████████| 10/10 [08:56<00:00, 53.75s/it]\n"
     ]
    }
   ],
   "source": [
    "from torch import optim\n",
    "from tqdm import tqdm\n",
    "\n",
    "model = Network(dataset.n_tokens).to(device)\n",
    "\n",
    "criterion = nn.CrossEntropyLoss()\n",
    "optimizer = optim.Adam(model.parameters())\n",
    "\n",
    "step = 1\n",
    "n_epochs = 10\n",
    "log_every_n_steps = 50\n",
    "\n",
    "cum_train_loss = 0.\n",
    "\n",
    "train_losses, test_losses = [], []\n",
    "\n",
    "for epoch in tqdm(range(n_epochs)):\n",
    "    model.init_hidden(batch_size, device)\n",
    "    \n",
    "    for x, y in train_loader:\n",
    "        x, y = x.to(device), y.reshape(-1).to(device)\n",
    "        \n",
    "        logits = model.forward(x)\n",
    "        loss = criterion(logits, y)\n",
    "        \n",
    "        optimizer.zero_grad()\n",
    "        loss.backward()\n",
    "        nn.utils.clip_grad_norm_(model.parameters(), 1.)\n",
    "        optimizer.step()\n",
    "        \n",
    "        model.reset_hidden()\n",
    "        cum_train_loss += loss.item()\n",
    "        \n",
    "        if step % log_every_n_steps == 0:\n",
    "            cum_test_loss = 0.\n",
    "            \n",
    "            model.eval()\n",
    "            model.init_hidden(batch_size, device)\n",
    "            \n",
    "            with torch.no_grad():\n",
    "                for x, y in test_loader:\n",
    "                    x, y = x.to(device), y.reshape(-1).to(device)\n",
    "                    \n",
    "                    logits = model.forward(x)\n",
    "                    loss = criterion(logits, y)\n",
    "                    \n",
    "                    model.reset_hidden()\n",
    "                    cum_test_loss += loss.item()\n",
    "            \n",
    "            model.train()\n",
    "\n",
    "            train_loss = cum_train_loss / log_every_n_steps\n",
    "            test_loss  = cum_test_loss  / len(test_loader)\n",
    "    \n",
    "            train_losses.append(train_loss)\n",
    "            test_losses.append(test_loss)\n",
    "            \n",
    "            cum_train_loss = 0.\n",
    "        \n",
    "        step += 1"
   ]
  },
  {
   "cell_type": "code",
   "execution_count": 6,
   "metadata": {},
   "outputs": [],
   "source": [
    "%config InlineBackend.figure_format = \"retina\"\n",
    "\n",
    "%matplotlib inline\n",
    "\n",
    "import matplotlib.pyplot as plt"
   ]
  },
  {
   "cell_type": "code",
   "execution_count": 7,
   "metadata": {},
   "outputs": [
    {
     "data": {
      "image/png": "[encoded data removed]",
      "text/plain": [
       "<Figure size 432x288 with 1 Axes>"
      ]
     },
     "metadata": {
      "image/png": {
       "height": 250,
       "width": 373
      },
      "needs_background": "light"
     },
     "output_type": "display_data"
    }
   ],
   "source": [
    "plt.plot(train_losses, label=\"Train loss\")\n",
    "plt.plot(test_losses, label=\"Test loss\")\n",
    "plt.legend()\n",
    "plt.show()"
   ]
  },
  {
   "cell_type": "code",
   "execution_count": 9,
   "metadata": {
    "scrolled": false
   },
   "outputs": [
    {
     "name": "stdout",
     "output_type": "stream",
     "text": [
      "Once upon a time he had seen her.\"\n",
      "\n",
      "\"It this shoulder, she and any sorts, standed, as he said to the conversation of her, and holding the steps. And there already told the country, and all the\n",
      "state of her hands.\"\n",
      "\n",
      "And his hand, and so his son and the countrain, and\n",
      "he\n",
      "had not said something thoughs the property and\n",
      "what was to say the state of his\n",
      "hand of that too that her heart.\n",
      "\n",
      "\"There are you the course.\n",
      "And alreing that. I'm that I have the strength and the strength. And that a signitanic she said, shalt to, and the propacior, and that they are talking, so talked,\" said her, the children had not chest the contristion and had been thought of the countrae to the countess as, and her and that that\n",
      "seemed of her, and that he had said. \"Well, he shall be a man of his show and won't be talked,\" he said.\n",
      "\n",
      "\"It's an instant, and the same side of that same, and had all them.\n",
      "\n",
      "And anything to the\n",
      "people,\n",
      "and to the same the state of the cordition to tack of the position, and the proness of a soute of his\n",
      "hea\n"
     ]
    }
   ],
   "source": [
    "prime = \"Once upon a time \"\n",
    "\n",
    "with torch.no_grad():\n",
    "    model.eval()\n",
    "    model.init_hidden(1, device)\n",
    "\n",
    "    def char_to_tensor(ch):\n",
    "        token = dataset.char2int[ch]\n",
    "        one_hot_code = dataset.seq_to_one_hot_code([token])\n",
    "        return torch.from_numpy(one_hot_code[np.newaxis, :]).to(device)\n",
    "\n",
    "    def logits_to_char(logits):\n",
    "        ps = F.softmax(logits, dim=1)\n",
    "        top_p, top_class = ps.topk(3, dim=1)\n",
    "        \n",
    "        top_p     = top_p.    squeeze().cpu().numpy()\n",
    "        top_class = top_class.squeeze().cpu().numpy()\n",
    "        \n",
    "        ix = np.random.choice(top_class, p=top_p / top_p.sum())\n",
    "        \n",
    "        return dataset.int2char[ix]\n",
    "\n",
    "    for ch in prime[:-1]: model.forward(char_to_tensor(ch))\n",
    "\n",
    "    for _ in range(1000):\n",
    "        tensor = char_to_tensor(prime[-1])\n",
    "        logits = model.forward(tensor)\n",
    "        prime += logits_to_char(logits)\n",
    "\n",
    "print(prime)"
   ]
  }
 ],
 "metadata": {
  "kernelspec": {
   "display_name": "Python 3",
   "language": "python",
   "name": "python3"
  },
  "language_info": {
   "codemirror_mode": {
    "name": "ipython",
    "version": 3
   },
   "file_extension": ".py",
   "mimetype": "text/x-python",
   "name": "python",
   "nbconvert_exporter": "python",
   "pygments_lexer": "ipython3",
   "version": "3.6.7"
  }
 },
 "nbformat": 4,
 "nbformat_minor": 2
}
